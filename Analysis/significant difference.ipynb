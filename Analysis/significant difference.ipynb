{
 "cells": [
  {
   "cell_type": "markdown",
   "id": "cae2cce4",
   "metadata": {},
   "source": [
    "# Significant difference analysis between two datasets"
   ]
  },
  {
   "cell_type": "markdown",
   "id": "632edc51",
   "metadata": {},
   "source": [
    "Compendium page 83: two samples, unknown true variance, two tail \n",
    "Test statistic: t = (X1-X2)/sqrt(S^2,1 /n1 + sqrt(S^2,2 /n2))\n",
    "H0 rejected if: |t| > (W1*t1)+(W2*t2)/(W1+W2)\n",
    "W1 = S^2,1 / n1\n",
    "W2 = S^2,2 / n2\n",
    "t1 = t(1-alpha/2, n1-1)\n",
    "t2 = t(1-alpha/2, n2-1)"
   ]
  },
  {
   "cell_type": "markdown",
   "id": "17788dc4",
   "metadata": {},
   "source": [
    "H0 = There is no significance difference between 2 areas\n",
    "Ha = H0 is rejected\n",
    "\n",
    "alpha = 5%"
   ]
  },
  {
   "cell_type": "code",
   "execution_count": null,
   "id": "e4a63217",
   "metadata": {},
   "outputs": [],
   "source": [
    "import pylab as pl\n",
    "from scipy import stats\n",
    "import pandas as pd\n",
    "import matplotlib.pyplot as plt\n",
    "import math\n",
    "import numpy as np\n",
    "import seaborn as sns\n",
    "\n"
   ]
  },
  {
   "cell_type": "code",
   "execution_count": null,
   "id": "0313f259",
   "metadata": {},
   "outputs": [],
   "source": [
    "from scipy.stats import t\n",
    "\n",
    "\n",
    "n_west= len()\n",
    "n_east= len(])\n",
    "\n",
    "std_west = .std()\n",
    "x_west = .mean()\n",
    "st_error_west = std_west**2 / (n_west) # this calculates how much the sample mean can differ from the population mean\n",
    "df_west = n_west-1\n",
    "\n",
    "\n",
    "std_east = .std()\n",
    "x_east = .mean()\n",
    "st_error_east = std_east**2 / (n_east) # this calculates how much the sample mean can differ from the population mean\n",
    "df_east = n_east-1\n",
    "\n",
    "alpha = 1 - (0.05/2) # here we estimate the confidence level\n",
    "\n",
    "t_west = t.ppf(alpha, df_west) # critical value dependent on confidence level and degrees of freedom\n",
    "t_east = t.ppf(alpha, df_east)\n",
    "\n",
    "t_statistic = (x_west - x_east)/math.sqrt(st_error_west + st_error_east)\n",
    "\n",
    "print(f\"Standard Error: {st_error_west:.2f}\")\n",
    "print(f\"Standard Error: {st_error_east:.2f}\")\n",
    "print(f\"Degrees of Freedom: {df_west}\")\n",
    "print(f\"Degrees of Freedom: {df_east}\")\n",
    "print(f\"t-critical value west area: {t_west:.2f}\")\n",
    "print(f\"t-critical value east area: {t_east:.2f}\")\n",
    "print('The statistic test is', round(t_statistic, 2))\n",
    "\n",
    "t_final = ((st_error_west*t_west)+(st_error_east*t_east))/(st_error_west+st_error_east)\n",
    "print('rejection criterion', round(t_final,2))"
   ]
  },
  {
   "cell_type": "code",
   "execution_count": null,
   "id": "ed0365e1",
   "metadata": {},
   "outputs": [],
   "source": [
    "#boxplot\n",
    "\n",
    "sns.boxplot(x='group', y='value', data=)\n",
    "sns.swarmplot(x='group', y='value', data=, color=\".25\")  # optional for individual points\n",
    "plt.show()\n"
   ]
  },
  {
   "cell_type": "code",
   "execution_count": null,
   "id": "fbdbc9fa",
   "metadata": {},
   "outputs": [],
   "source": [
    "#Overlapping graphs\n",
    "\n",
    "from scipy.stats import t\n",
    "\n",
    "margin_error_west = t_west * st_error_west #the range of uncertainty around a measurement\n",
    "margin_error_east = t_east * st_error_east\n",
    "\n",
    "#confidence intervals\n",
    "lower_west = x_west - margin_error_west\n",
    "upper_west = x_west + margin_error_west\n",
    "lower_east = x_east - margin_error_east\n",
    "upper_east = x_east + margin_error_east\n",
    "\n",
    "line_west = np.linspace(x_west - 4 * st_error_west, x_west + 4 * st_error_west, 500) #500 values spaced out around the mean using the t distribution with spacing of -+4 standard error\n",
    "pdf_west = t.pdf(line_west, df_west, loc=x_west, scale=st_error_west) #probability density of the t distribution with the mean as the middle point and the error for the spacing\n",
    "\n",
    "line_east = np.linspace(x_east - 4 * st_error_east, x_east + 4 * st_error_east, 500) #500 values spaced out around the mean using the t distribution with spacing of -+4 standard error\n",
    "pdf_east = t.pdf(line_east, df_east, loc=x_east, scale=st_error_east)\n",
    "\n",
    "\n",
    "plt.figure(figsize=(10, 6))\n",
    "plt.plot(line_west, pdf_west, label='Estimated t-distribution of the sample mean west area')\n",
    "plt.plot(line_east, pdf_east, label='Estimated t-distribution of the sample mean east area')\n",
    "\n",
    "plt.axvline(x_west, color='red', linestyle='--', label=f'Sample Mean: {x_west}')\n",
    "plt.axvline(lower_west, color='green', linestyle=':', label=f'Lower Bound (95% CI): {lower_west:.2f}')\n",
    "plt.axvline(upper_west, color='green', linestyle=':', label=f'Upper Bound (95% CI): {upper_west:.2f}')\n",
    "\n",
    "plt.axvline(x_east, color='red', linestyle='--', label=f'Sample Mean: {x_east}')\n",
    "plt.axvline(lower_east, color='green', linestyle=':', label=f'Lower Bound (95% CI): {lower_east:.2f}')\n",
    "plt.axvline(upper_east, color='green', linestyle=':', label=f'Upper Bound (95% CI): {upper_east:.2f}') \n",
    "\n",
    "plt.fill_between(line_west, 0, pdf_west, where=(line_west >= lower_west) & (line_west <= upper_west), color='lightgreen', alpha=0.5, label='95% Confidence Interval')\n",
    "plt.fill_between(line_east, 0, pdf_east, where=(line_east >= lower_east) & (line_east <= upper_east), color='skyblue', alpha=0.5, label='95% Confidence Interval')\n",
    "\n",
    "\n",
    "plt.title('Estimated t-Distribution of Sample Mean and 95% Confidence Interval')\n",
    "plt.xlabel('Mean Value')\n",
    "plt.ylabel('Probability Density')\n",
    "plt.legend()\n",
    "plt.grid(True)\n",
    "plt.show()"
   ]
  }
 ],
 "metadata": {
  "kernelspec": {
   "display_name": "Data Lab UiO",
   "language": "python",
   "name": "data_lab_uio"
  },
  "language_info": {
   "name": "python",
   "version": "3.10.18"
  }
 },
 "nbformat": 4,
 "nbformat_minor": 5
}
